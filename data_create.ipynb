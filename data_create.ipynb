{
  "nbformat": 4,
  "nbformat_minor": 0,
  "metadata": {
    "colab": {
      "provenance": [],
      "include_colab_link": true
    },
    "kernelspec": {
      "name": "python3",
      "display_name": "Python 3"
    },
    "language_info": {
      "name": "python"
    }
  },
  "cells": [
    {
      "cell_type": "markdown",
      "metadata": {
        "id": "view-in-github",
        "colab_type": "text"
      },
      "source": [
        "<a href=\"https://colab.research.google.com/github/cegy/Orange3/blob/main/data_create.ipynb\" target=\"_parent\"><img src=\"https://colab.research.google.com/assets/colab-badge.svg\" alt=\"Open In Colab\"/></a>"
      ]
    },
    {
      "cell_type": "code",
      "execution_count": null,
      "metadata": {
        "id": "iq6nDCLNPlbc"
      },
      "outputs": [],
      "source": [
        "# encoding: utf-8\n",
        "\n",
        "import pandas as pd"
      ]
    },
    {
      "cell_type": "code",
      "source": [
        "df1 = pd.read_csv('/content/Station_Info.csv')\n",
        "# type(df1)"
      ],
      "metadata": {
        "id": "JqBw03vv3jmX"
      },
      "execution_count": null,
      "outputs": []
    },
    {
      "cell_type": "code",
      "source": [
        "df2 = pd.read_csv('/content/Data_Corona19_Seoul.csv')\n",
        "# type(df2)"
      ],
      "metadata": {
        "id": "upqyxXNl3ttk"
      },
      "execution_count": null,
      "outputs": []
    },
    {
      "cell_type": "code",
      "source": [
        "print(df1.shape, df2.shape)"
      ],
      "metadata": {
        "id": "LIl2-Sqc5UUZ"
      },
      "execution_count": null,
      "outputs": []
    },
    {
      "cell_type": "code",
      "source": [
        "for i in range(len(df1)):\n",
        "    print(\n",
        "        df1['Station name(district)'][i],\n",
        "        df1['Latitude'][i],\n",
        "        df1['Longitude'][i]\n",
        "    )"
      ],
      "metadata": {
        "id": "hA3fce-b9vV-"
      },
      "execution_count": null,
      "outputs": []
    },
    {
      "cell_type": "code",
      "source": [
        "for i in range(len(df1)):\n",
        "    for j in range(len(df2)):\n",
        "        print(\n",
        "            df2['Date'][j],\n",
        "            df1['Station name(district)'][i],\n",
        "            df2[df1['Station name(district)'][i]][j],\n",
        "            df1['Latitude'][i],\n",
        "            df1['Longitude'][i]\n",
        "        )"
      ],
      "metadata": {
        "id": "MHZFgiwn-HnL"
      },
      "execution_count": null,
      "outputs": []
    },
    {
      "cell_type": "code",
      "source": [
        "Date = []\n",
        "St_Name = []\n",
        "St_Val = []\n",
        "St_Lati = []\n",
        "St_Long = []\n",
        "\n",
        "for i in range(len(df1)):\n",
        "    for j in range(len(df2)):\n",
        "        Date.append(df2['Date'][j])\n",
        "        St_Name.append(df1['Station name(district)'][i])\n",
        "        St_Val.append(df2[df1['Station name(district)'][i]][j])\n",
        "        St_Lati.append(df1['Latitude'][i])\n",
        "        St_Long.append(df1['Longitude'][i])\n",
        "\n",
        "Date, St_Name, St_Val, St_Lati, St_Long"
      ],
      "metadata": {
        "id": "w66M5N1EB44a"
      },
      "execution_count": null,
      "outputs": []
    },
    {
      "cell_type": "code",
      "source": [
        "Result = pd.DataFrame({\n",
        "    '날짜' : Date,\n",
        "    '자치구' : St_Name,\n",
        "    '확진자' : St_Val,\n",
        "    '위도' : St_Lati,\n",
        "    '경도' : St_Long\n",
        "})\n",
        "\n",
        "Result"
      ],
      "metadata": {
        "id": "r13cVAzLCogJ"
      },
      "execution_count": null,
      "outputs": []
    },
    {
      "cell_type": "code",
      "source": [
        "Result.to_excel('/content/Result.xlsx')\n",
        "Result.to_csv('/content/Result.csv')"
      ],
      "metadata": {
        "id": "exirs8L4DpzR"
      },
      "execution_count": null,
      "outputs": []
    }
  ]
}