{
  "cells": [
    {
      "cell_type": "markdown",
      "metadata": {
        "colab_type": "text",
        "id": "view-in-github"
      },
      "source": [
        "<a href=\"https://colab.research.google.com/github/cegy/Orange3/blob/main/data_create.ipynb\" target=\"_parent\"><img src=\"https://colab.research.google.com/assets/colab-badge.svg\" alt=\"Open In Colab\"/></a>"
      ]
    },
    {
      "cell_type": "code",
      "execution_count": null,
      "metadata": {
        "id": "iq6nDCLNPlbc"
      },
      "outputs": [],
      "source": [
        "# encoding: utf-8\n",
        "\n",
        "import pandas as pd"
      ]
    },
    {
      "cell_type": "code",
      "execution_count": null,
      "metadata": {
        "id": "JqBw03vv3jmX"
      },
      "outputs": [],
      "source": [
        "df1 = pd.read_csv('/content/Station_Info.csv')\n",
        "# type(df1)"
      ]
    },
    {
      "cell_type": "code",
      "execution_count": null,
      "metadata": {
        "id": "upqyxXNl3ttk"
      },
      "outputs": [],
      "source": [
        "df2 = pd.read_csv('/content/Data_Corona19_Seoul.csv')\n",
        "# type(df2)"
      ]
    },
    {
      "cell_type": "code",
      "execution_count": null,
      "metadata": {
        "id": "LIl2-Sqc5UUZ"
      },
      "outputs": [],
      "source": [
        "print(df1.shape, df2.shape)"
      ]
    },
    {
      "cell_type": "code",
      "execution_count": null,
      "metadata": {
        "id": "hA3fce-b9vV-"
      },
      "outputs": [],
      "source": [
        "for i in range(len(df1)):\n",
        "    print(\n",
        "        df1['Station name(district)'][i],\n",
        "        df1['Latitude'][i],\n",
        "        df1['Longitude'][i]\n",
        "    )"
      ]
    },
    {
      "cell_type": "code",
      "execution_count": null,
      "metadata": {
        "id": "MHZFgiwn-HnL"
      },
      "outputs": [],
      "source": [
        "for i in range(len(df1)):\n",
        "    for j in range(len(df2)):\n",
        "        print(\n",
        "            df2['Date'][j],\n",
        "            df1['Station name(district)'][i],\n",
        "            df2[df1['Station name(district)'][i]][j],\n",
        "            df1['Latitude'][i],\n",
        "            df1['Longitude'][i]\n",
        "        )"
      ]
    },
    {
      "cell_type": "code",
      "execution_count": null,
      "metadata": {
        "id": "w66M5N1EB44a"
      },
      "outputs": [],
      "source": [
        "Date = []\n",
        "St_Name = []\n",
        "St_Val = []\n",
        "St_Lati = []\n",
        "St_Long = []\n",
        "\n",
        "for i in range(len(df1)):\n",
        "    for j in range(len(df2)):\n",
        "        Date.append(df2['Date'][j])\n",
        "        St_Name.append(df1['Station name(district)'][i])\n",
        "        St_Val.append(df2[df1['Station name(district)'][i]][j])\n",
        "        St_Lati.append(df1['Latitude'][i])\n",
        "        St_Long.append(df1['Longitude'][i])\n",
        "\n",
        "Date, St_Name, St_Val, St_Lati, St_Long"
      ]
    },
    {
      "cell_type": "code",
      "execution_count": null,
      "metadata": {
        "id": "r13cVAzLCogJ"
      },
      "outputs": [],
      "source": [
        "Result = pd.DataFrame({\n",
        "    '날짜' : Date,\n",
        "    '자치구' : St_Name,\n",
        "    '확진자' : St_Val,\n",
        "    '위도' : St_Lati,\n",
        "    '경도' : St_Long\n",
        "})\n",
        "\n",
        "Result"
      ]
    },
    {
      "cell_type": "code",
      "execution_count": null,
      "metadata": {
        "id": "exirs8L4DpzR"
      },
      "outputs": [],
      "source": [
        "Result.to_excel('/content/Result.xlsx')\n",
        "Result.to_csv('/content/Result.csv')"
      ]
    }
  ],
  "metadata": {
    "colab": {
      "include_colab_link": true,
      "provenance": []
    },
    "kernelspec": {
      "display_name": "Python 3.10.4 64-bit",
      "language": "python",
      "name": "python3"
    },
    "language_info": {
      "name": "python",
      "version": "3.10.4"
    },
    "vscode": {
      "interpreter": {
        "hash": "3ad933181bd8a04b432d3370b9dc3b0662ad032c4dfaa4e4f1596c548f763858"
      }
    }
  },
  "nbformat": 4,
  "nbformat_minor": 0
}
